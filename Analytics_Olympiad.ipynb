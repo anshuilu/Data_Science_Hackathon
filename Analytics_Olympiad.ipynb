{
  "cells": [
    {
      "cell_type": "code",
      "execution_count": 1,
      "metadata": {
        "id": "eIZFuS5g5m7X"
      },
      "outputs": [],
      "source": [
        "import pandas as pd\n",
        "import numpy as np\n",
        "import random as rnd\n",
        "\n",
        "# visualization\n",
        "import seaborn as sns\n",
        "import matplotlib.pyplot as plt\n",
        "%matplotlib inline\n",
        "\n",
        "# machine learning\n",
        "from sklearn.linear_model import LogisticRegression\n",
        "from sklearn.svm import SVC, LinearSVC\n",
        "from sklearn.ensemble import RandomForestClassifier\n",
        "from sklearn.neighbors import KNeighborsClassifier\n",
        "from sklearn.naive_bayes import GaussianNB\n",
        "from sklearn.linear_model import Perceptron\n",
        "from sklearn.linear_model import SGDClassifier\n",
        "from sklearn.tree import DecisionTreeClassifier"
      ]
    },
    {
      "cell_type": "code",
      "execution_count": 2,
      "metadata": {
        "id": "iF2oEEZpcSP9"
      },
      "outputs": [],
      "source": [
        "import zipfile\n",
        "with zipfile.ZipFile(\"AnalyticsOlympiad2022Data.zip\",\"r\") as zip_ref:\n",
        "    zip_ref.extractall(\"targetdir\")"
      ]
    },
    {
      "cell_type": "code",
      "execution_count": 3,
      "metadata": {
        "id": "z5jyqq3e5nGZ"
      },
      "outputs": [],
      "source": [
        "train_df = pd.read_csv('/content/targetdir/AnalyticsOlympiad2022Data/train.csv')\n",
        "test_df = pd.read_csv('/content/targetdir/AnalyticsOlympiad2022Data/test.csv')\n",
        "combine = [train_df, test_df]"
      ]
    },
    {
      "cell_type": "code",
      "execution_count": null,
      "metadata": {
        "colab": {
          "base_uri": "https://localhost:8080/"
        },
        "id": "0Z5wszpQ6WE9",
        "outputId": "bbd47146-ce7e-4d75-9092-ddb4e639b0a3"
      },
      "outputs": [
        {
          "output_type": "stream",
          "name": "stdout",
          "text": [
            "['ID' 'AGE' 'GENDER' 'DRIVING_EXPERIENCE' 'EDUCATION' 'INCOME'\n",
            " 'CREDIT_SCORE' 'VEHICLE_OWNERSHIP' 'VEHICLE_YEAR' 'MARRIED' 'CHILDREN'\n",
            " 'POSTAL_CODE' 'ANNUAL_MILEAGE' 'SPEEDING_VIOLATIONS' 'DUIS'\n",
            " 'PAST_ACCIDENTS' 'OUTCOME' 'TYPE_OF_VEHICLE']\n"
          ]
        }
      ],
      "source": [
        "print(train_df.columns.values)"
      ]
    },
    {
      "cell_type": "code",
      "execution_count": null,
      "metadata": {
        "colab": {
          "base_uri": "https://localhost:8080/"
        },
        "id": "NeNonqXe6i00",
        "outputId": "4afaeb10-2053-4fb3-86d2-1226ed49eb00"
      },
      "outputs": [
        {
          "name": "stdout",
          "output_type": "stream",
          "text": [
            "<bound method DataFrame.info of             ID    AGE  GENDER DRIVING_EXPERIENCE    EDUCATION         INCOME  \\\n",
            "0       816393  40-64  female             20-29y   university   middle class   \n",
            "1       251762  26-39    male             20-29y  high school   middle class   \n",
            "2       481952  40-64    male             20-29y         none   middle class   \n",
            "3         3506  40-64    male             20-29y  high school    upper class   \n",
            "4       498013  40-64  female             20-29y         none  working class   \n",
            "...        ...    ...     ...                ...          ...            ...   \n",
            "104995   19557    65+  female               0-9y  high school    upper class   \n",
            "104996  222459  40-64  female               0-9y         none  working class   \n",
            "104997   83089  16-25    male             10-19y         none    upper class   \n",
            "104998  984879  40-64  female             20-29y  high school  working class   \n",
            "104999  139618    65+  female             20-29y  high school    upper class   \n",
            "\n",
            "        CREDIT_SCORE  VEHICLE_OWNERSHIP VEHICLE_YEAR  MARRIED  CHILDREN  \\\n",
            "0           0.638050                0.0   after 2015      0.0       0.0   \n",
            "1           0.475741                1.0  before 2015      1.0       0.0   \n",
            "2           0.839817                1.0  before 2015      1.0       1.0   \n",
            "3           0.682527                1.0  before 2015      0.0       1.0   \n",
            "4           0.572184                1.0   after 2015      1.0       1.0   \n",
            "...              ...                ...          ...      ...       ...   \n",
            "104995      0.672255                1.0  before 2015      0.0       0.0   \n",
            "104996      0.514193                1.0   after 2015      1.0       0.0   \n",
            "104997      0.461942                1.0   after 2015      1.0       0.0   \n",
            "104998      0.483571                1.0  before 2015      0.0       0.0   \n",
            "104999      0.468710                1.0   after 2015      0.0       1.0   \n",
            "\n",
            "        POSTAL_CODE  ANNUAL_MILEAGE  SPEEDING_VIOLATIONS  DUIS  \\\n",
            "0             37379         11000.0                    0     0   \n",
            "1             10238          9000.0                    0     0   \n",
            "2             10238         12000.0                    0     0   \n",
            "3             92099          6000.0                    1     0   \n",
            "4             32122         15000.0                    0     0   \n",
            "...             ...             ...                  ...   ...   \n",
            "104995        31885          9000.0                    2     0   \n",
            "104996        32277         10000.0                    0     0   \n",
            "104997        34800         11000.0                    0     0   \n",
            "104998        10238         10000.0                    0     0   \n",
            "104999        10238         14000.0                    0     0   \n",
            "\n",
            "        PAST_ACCIDENTS  OUTCOME TYPE_OF_VEHICLE  \n",
            "0                    0      0.0      Sports Car  \n",
            "1                    0      1.0       HatchBack  \n",
            "2                    0      1.0           Sedan  \n",
            "3                    0      1.0           Sedan  \n",
            "4                    1      0.0           Sedan  \n",
            "...                ...      ...             ...  \n",
            "104995               0      0.0             SUV  \n",
            "104996               0      1.0           Sedan  \n",
            "104997               0      1.0           Sedan  \n",
            "104998               0      0.0       HatchBack  \n",
            "104999               0      1.0       HatchBack  \n",
            "\n",
            "[105000 rows x 18 columns]>\n"
          ]
        }
      ],
      "source": [
        "print(train_df.info)"
      ]
    },
    {
      "cell_type": "code",
      "execution_count": null,
      "metadata": {
        "colab": {
          "base_uri": "https://localhost:8080/"
        },
        "id": "H9BwW8MI6uQs",
        "outputId": "18dcfdaf-b282-42ba-fe0a-7ac51b189577"
      },
      "outputs": [
        {
          "name": "stdout",
          "output_type": "stream",
          "text": [
            "<bound method DataFrame.info of            ID    AGE  GENDER DRIVING_EXPERIENCE    EDUCATION         INCOME  \\\n",
            "0      352928  40-64    male             10-19y         none  working class   \n",
            "1       38579  26-39  female             20-29y  high school    upper class   \n",
            "2      504022  40-64    male             10-19y         none    upper class   \n",
            "3      202404  26-39    male             20-29y  high school    upper class   \n",
            "4      527913    65+    male             10-19y         none   middle class   \n",
            "...       ...    ...     ...                ...          ...            ...   \n",
            "44995  117683    65+  female             20-29y  high school        poverty   \n",
            "44996  619620  40-64    male             20-29y   university  working class   \n",
            "44997   11086  40-64    male             10-19y         none        poverty   \n",
            "44998   31717    65+    male               30y+  high school    upper class   \n",
            "44999   26945    65+  female             10-19y  high school    upper class   \n",
            "\n",
            "       CREDIT_SCORE  VEHICLE_OWNERSHIP VEHICLE_YEAR  MARRIED  CHILDREN  \\\n",
            "0          0.814707                1.0   after 2015      0.0       1.0   \n",
            "1          0.344051                1.0  before 2015      0.0       0.0   \n",
            "2          0.620691                0.0   after 2015      1.0       0.0   \n",
            "3          0.689658                1.0   after 2015      1.0       1.0   \n",
            "4          0.755666                0.0   after 2015      0.0       1.0   \n",
            "...             ...                ...          ...      ...       ...   \n",
            "44995      0.472022                1.0  before 2015      1.0       0.0   \n",
            "44996      0.757312                0.0  before 2015      1.0       0.0   \n",
            "44997      0.566764                0.0   after 2015      0.0       0.0   \n",
            "44998      0.741850                1.0  before 2015      1.0       0.0   \n",
            "44999      0.705271                1.0   after 2015      1.0       1.0   \n",
            "\n",
            "       POSTAL_CODE  ANNUAL_MILEAGE  SPEEDING_VIOLATIONS  DUIS  PAST_ACCIDENTS  \\\n",
            "0            10238         10000.0                    0     0               0   \n",
            "1            34073         13000.0                    0     0               0   \n",
            "2            10238         12000.0                    0     0               0   \n",
            "3            10238         16000.0                    1     0               0   \n",
            "4            92101         14000.0                    2     0               0   \n",
            "...            ...             ...                  ...   ...             ...   \n",
            "44995        10238         10000.0                    0     0               1   \n",
            "44996        10238         12000.0                    0     0               0   \n",
            "44997        10238         13000.0                    0     0               0   \n",
            "44998        92101         13000.0                    1     0               0   \n",
            "44999        10238          8000.0                    1     0               1   \n",
            "\n",
            "      TYPE_OF_VEHICLE  \n",
            "0           HatchBack  \n",
            "1               Sedan  \n",
            "2                 SUV  \n",
            "3                 SUV  \n",
            "4           HatchBack  \n",
            "...               ...  \n",
            "44995      Sports Car  \n",
            "44996      Sports Car  \n",
            "44997           Sedan  \n",
            "44998      Sports Car  \n",
            "44999      Sports Car  \n",
            "\n",
            "[45000 rows x 17 columns]>\n"
          ]
        }
      ],
      "source": [
        "print(test_df.info)"
      ]
    },
    {
      "cell_type": "code",
      "execution_count": null,
      "metadata": {
        "colab": {
          "base_uri": "https://localhost:8080/",
          "height": 357
        },
        "id": "cAsMuCrV61H4",
        "outputId": "1e600fd5-4958-4720-8f68-51136643ae2f"
      },
      "outputs": [
        {
          "data": {
            "text/html": [
              "\n",
              "  <div id=\"df-0279fbd1-d941-4922-8f9f-840f44f0428e\">\n",
              "    <div class=\"colab-df-container\">\n",
              "      <div>\n",
              "<style scoped>\n",
              "    .dataframe tbody tr th:only-of-type {\n",
              "        vertical-align: middle;\n",
              "    }\n",
              "\n",
              "    .dataframe tbody tr th {\n",
              "        vertical-align: top;\n",
              "    }\n",
              "\n",
              "    .dataframe thead th {\n",
              "        text-align: right;\n",
              "    }\n",
              "</style>\n",
              "<table border=\"1\" class=\"dataframe\">\n",
              "  <thead>\n",
              "    <tr style=\"text-align: right;\">\n",
              "      <th></th>\n",
              "      <th>ID</th>\n",
              "      <th>AGE</th>\n",
              "      <th>GENDER</th>\n",
              "      <th>DRIVING_EXPERIENCE</th>\n",
              "      <th>EDUCATION</th>\n",
              "      <th>INCOME</th>\n",
              "      <th>CREDIT_SCORE</th>\n",
              "      <th>VEHICLE_OWNERSHIP</th>\n",
              "      <th>VEHICLE_YEAR</th>\n",
              "      <th>MARRIED</th>\n",
              "      <th>CHILDREN</th>\n",
              "      <th>POSTAL_CODE</th>\n",
              "      <th>ANNUAL_MILEAGE</th>\n",
              "      <th>SPEEDING_VIOLATIONS</th>\n",
              "      <th>DUIS</th>\n",
              "      <th>PAST_ACCIDENTS</th>\n",
              "      <th>OUTCOME</th>\n",
              "      <th>TYPE_OF_VEHICLE</th>\n",
              "    </tr>\n",
              "  </thead>\n",
              "  <tbody>\n",
              "    <tr>\n",
              "      <th>0</th>\n",
              "      <td>816393</td>\n",
              "      <td>40-64</td>\n",
              "      <td>female</td>\n",
              "      <td>20-29y</td>\n",
              "      <td>university</td>\n",
              "      <td>middle class</td>\n",
              "      <td>0.638050</td>\n",
              "      <td>0.0</td>\n",
              "      <td>after 2015</td>\n",
              "      <td>0.0</td>\n",
              "      <td>0.0</td>\n",
              "      <td>37379</td>\n",
              "      <td>11000.0</td>\n",
              "      <td>0</td>\n",
              "      <td>0</td>\n",
              "      <td>0</td>\n",
              "      <td>0.0</td>\n",
              "      <td>Sports Car</td>\n",
              "    </tr>\n",
              "    <tr>\n",
              "      <th>1</th>\n",
              "      <td>251762</td>\n",
              "      <td>26-39</td>\n",
              "      <td>male</td>\n",
              "      <td>20-29y</td>\n",
              "      <td>high school</td>\n",
              "      <td>middle class</td>\n",
              "      <td>0.475741</td>\n",
              "      <td>1.0</td>\n",
              "      <td>before 2015</td>\n",
              "      <td>1.0</td>\n",
              "      <td>0.0</td>\n",
              "      <td>10238</td>\n",
              "      <td>9000.0</td>\n",
              "      <td>0</td>\n",
              "      <td>0</td>\n",
              "      <td>0</td>\n",
              "      <td>1.0</td>\n",
              "      <td>HatchBack</td>\n",
              "    </tr>\n",
              "    <tr>\n",
              "      <th>2</th>\n",
              "      <td>481952</td>\n",
              "      <td>40-64</td>\n",
              "      <td>male</td>\n",
              "      <td>20-29y</td>\n",
              "      <td>none</td>\n",
              "      <td>middle class</td>\n",
              "      <td>0.839817</td>\n",
              "      <td>1.0</td>\n",
              "      <td>before 2015</td>\n",
              "      <td>1.0</td>\n",
              "      <td>1.0</td>\n",
              "      <td>10238</td>\n",
              "      <td>12000.0</td>\n",
              "      <td>0</td>\n",
              "      <td>0</td>\n",
              "      <td>0</td>\n",
              "      <td>1.0</td>\n",
              "      <td>Sedan</td>\n",
              "    </tr>\n",
              "    <tr>\n",
              "      <th>3</th>\n",
              "      <td>3506</td>\n",
              "      <td>40-64</td>\n",
              "      <td>male</td>\n",
              "      <td>20-29y</td>\n",
              "      <td>high school</td>\n",
              "      <td>upper class</td>\n",
              "      <td>0.682527</td>\n",
              "      <td>1.0</td>\n",
              "      <td>before 2015</td>\n",
              "      <td>0.0</td>\n",
              "      <td>1.0</td>\n",
              "      <td>92099</td>\n",
              "      <td>6000.0</td>\n",
              "      <td>1</td>\n",
              "      <td>0</td>\n",
              "      <td>0</td>\n",
              "      <td>1.0</td>\n",
              "      <td>Sedan</td>\n",
              "    </tr>\n",
              "    <tr>\n",
              "      <th>4</th>\n",
              "      <td>498013</td>\n",
              "      <td>40-64</td>\n",
              "      <td>female</td>\n",
              "      <td>20-29y</td>\n",
              "      <td>none</td>\n",
              "      <td>working class</td>\n",
              "      <td>0.572184</td>\n",
              "      <td>1.0</td>\n",
              "      <td>after 2015</td>\n",
              "      <td>1.0</td>\n",
              "      <td>1.0</td>\n",
              "      <td>32122</td>\n",
              "      <td>15000.0</td>\n",
              "      <td>0</td>\n",
              "      <td>0</td>\n",
              "      <td>1</td>\n",
              "      <td>0.0</td>\n",
              "      <td>Sedan</td>\n",
              "    </tr>\n",
              "  </tbody>\n",
              "</table>\n",
              "</div>\n",
              "      <button class=\"colab-df-convert\" onclick=\"convertToInteractive('df-0279fbd1-d941-4922-8f9f-840f44f0428e')\"\n",
              "              title=\"Convert this dataframe to an interactive table.\"\n",
              "              style=\"display:none;\">\n",
              "        \n",
              "  <svg xmlns=\"http://www.w3.org/2000/svg\" height=\"24px\"viewBox=\"0 0 24 24\"\n",
              "       width=\"24px\">\n",
              "    <path d=\"M0 0h24v24H0V0z\" fill=\"none\"/>\n",
              "    <path d=\"M18.56 5.44l.94 2.06.94-2.06 2.06-.94-2.06-.94-.94-2.06-.94 2.06-2.06.94zm-11 1L8.5 8.5l.94-2.06 2.06-.94-2.06-.94L8.5 2.5l-.94 2.06-2.06.94zm10 10l.94 2.06.94-2.06 2.06-.94-2.06-.94-.94-2.06-.94 2.06-2.06.94z\"/><path d=\"M17.41 7.96l-1.37-1.37c-.4-.4-.92-.59-1.43-.59-.52 0-1.04.2-1.43.59L10.3 9.45l-7.72 7.72c-.78.78-.78 2.05 0 2.83L4 21.41c.39.39.9.59 1.41.59.51 0 1.02-.2 1.41-.59l7.78-7.78 2.81-2.81c.8-.78.8-2.07 0-2.86zM5.41 20L4 18.59l7.72-7.72 1.47 1.35L5.41 20z\"/>\n",
              "  </svg>\n",
              "      </button>\n",
              "      \n",
              "  <style>\n",
              "    .colab-df-container {\n",
              "      display:flex;\n",
              "      flex-wrap:wrap;\n",
              "      gap: 12px;\n",
              "    }\n",
              "\n",
              "    .colab-df-convert {\n",
              "      background-color: #E8F0FE;\n",
              "      border: none;\n",
              "      border-radius: 50%;\n",
              "      cursor: pointer;\n",
              "      display: none;\n",
              "      fill: #1967D2;\n",
              "      height: 32px;\n",
              "      padding: 0 0 0 0;\n",
              "      width: 32px;\n",
              "    }\n",
              "\n",
              "    .colab-df-convert:hover {\n",
              "      background-color: #E2EBFA;\n",
              "      box-shadow: 0px 1px 2px rgba(60, 64, 67, 0.3), 0px 1px 3px 1px rgba(60, 64, 67, 0.15);\n",
              "      fill: #174EA6;\n",
              "    }\n",
              "\n",
              "    [theme=dark] .colab-df-convert {\n",
              "      background-color: #3B4455;\n",
              "      fill: #D2E3FC;\n",
              "    }\n",
              "\n",
              "    [theme=dark] .colab-df-convert:hover {\n",
              "      background-color: #434B5C;\n",
              "      box-shadow: 0px 1px 3px 1px rgba(0, 0, 0, 0.15);\n",
              "      filter: drop-shadow(0px 1px 2px rgba(0, 0, 0, 0.3));\n",
              "      fill: #FFFFFF;\n",
              "    }\n",
              "  </style>\n",
              "\n",
              "      <script>\n",
              "        const buttonEl =\n",
              "          document.querySelector('#df-0279fbd1-d941-4922-8f9f-840f44f0428e button.colab-df-convert');\n",
              "        buttonEl.style.display =\n",
              "          google.colab.kernel.accessAllowed ? 'block' : 'none';\n",
              "\n",
              "        async function convertToInteractive(key) {\n",
              "          const element = document.querySelector('#df-0279fbd1-d941-4922-8f9f-840f44f0428e');\n",
              "          const dataTable =\n",
              "            await google.colab.kernel.invokeFunction('convertToInteractive',\n",
              "                                                     [key], {});\n",
              "          if (!dataTable) return;\n",
              "\n",
              "          const docLinkHtml = 'Like what you see? Visit the ' +\n",
              "            '<a target=\"_blank\" href=https://colab.research.google.com/notebooks/data_table.ipynb>data table notebook</a>'\n",
              "            + ' to learn more about interactive tables.';\n",
              "          element.innerHTML = '';\n",
              "          dataTable['output_type'] = 'display_data';\n",
              "          await google.colab.output.renderOutput(dataTable, element);\n",
              "          const docLink = document.createElement('div');\n",
              "          docLink.innerHTML = docLinkHtml;\n",
              "          element.appendChild(docLink);\n",
              "        }\n",
              "      </script>\n",
              "    </div>\n",
              "  </div>\n",
              "  "
            ],
            "text/plain": [
              "       ID    AGE  GENDER DRIVING_EXPERIENCE    EDUCATION         INCOME  \\\n",
              "0  816393  40-64  female             20-29y   university   middle class   \n",
              "1  251762  26-39    male             20-29y  high school   middle class   \n",
              "2  481952  40-64    male             20-29y         none   middle class   \n",
              "3    3506  40-64    male             20-29y  high school    upper class   \n",
              "4  498013  40-64  female             20-29y         none  working class   \n",
              "\n",
              "   CREDIT_SCORE  VEHICLE_OWNERSHIP VEHICLE_YEAR  MARRIED  CHILDREN  \\\n",
              "0      0.638050                0.0   after 2015      0.0       0.0   \n",
              "1      0.475741                1.0  before 2015      1.0       0.0   \n",
              "2      0.839817                1.0  before 2015      1.0       1.0   \n",
              "3      0.682527                1.0  before 2015      0.0       1.0   \n",
              "4      0.572184                1.0   after 2015      1.0       1.0   \n",
              "\n",
              "   POSTAL_CODE  ANNUAL_MILEAGE  SPEEDING_VIOLATIONS  DUIS  PAST_ACCIDENTS  \\\n",
              "0        37379         11000.0                    0     0               0   \n",
              "1        10238          9000.0                    0     0               0   \n",
              "2        10238         12000.0                    0     0               0   \n",
              "3        92099          6000.0                    1     0               0   \n",
              "4        32122         15000.0                    0     0               1   \n",
              "\n",
              "   OUTCOME TYPE_OF_VEHICLE  \n",
              "0      0.0      Sports Car  \n",
              "1      1.0       HatchBack  \n",
              "2      1.0           Sedan  \n",
              "3      1.0           Sedan  \n",
              "4      0.0           Sedan  "
            ]
          },
          "execution_count": 9,
          "metadata": {},
          "output_type": "execute_result"
        }
      ],
      "source": [
        "train_df.head()"
      ]
    },
    {
      "cell_type": "code",
      "execution_count": null,
      "metadata": {
        "colab": {
          "base_uri": "https://localhost:8080/",
          "height": 364
        },
        "id": "-4LPzEVQ61TQ",
        "outputId": "b4b689da-36b5-4b69-e0d0-fe8e368ca777"
      },
      "outputs": [
        {
          "data": {
            "text/html": [
              "\n",
              "  <div id=\"df-ea45e61b-5b63-4c6b-8f0b-31916985eb20\">\n",
              "    <div class=\"colab-df-container\">\n",
              "      <div>\n",
              "<style scoped>\n",
              "    .dataframe tbody tr th:only-of-type {\n",
              "        vertical-align: middle;\n",
              "    }\n",
              "\n",
              "    .dataframe tbody tr th {\n",
              "        vertical-align: top;\n",
              "    }\n",
              "\n",
              "    .dataframe thead th {\n",
              "        text-align: right;\n",
              "    }\n",
              "</style>\n",
              "<table border=\"1\" class=\"dataframe\">\n",
              "  <thead>\n",
              "    <tr style=\"text-align: right;\">\n",
              "      <th></th>\n",
              "      <th>ID</th>\n",
              "      <th>CREDIT_SCORE</th>\n",
              "      <th>VEHICLE_OWNERSHIP</th>\n",
              "      <th>MARRIED</th>\n",
              "      <th>CHILDREN</th>\n",
              "      <th>POSTAL_CODE</th>\n",
              "      <th>ANNUAL_MILEAGE</th>\n",
              "      <th>SPEEDING_VIOLATIONS</th>\n",
              "      <th>DUIS</th>\n",
              "      <th>PAST_ACCIDENTS</th>\n",
              "      <th>OUTCOME</th>\n",
              "    </tr>\n",
              "  </thead>\n",
              "  <tbody>\n",
              "    <tr>\n",
              "      <th>count</th>\n",
              "      <td>105000.000000</td>\n",
              "      <td>105000.000000</td>\n",
              "      <td>105000.000000</td>\n",
              "      <td>105000.000000</td>\n",
              "      <td>105000.000000</td>\n",
              "      <td>105000.000000</td>\n",
              "      <td>105000.000000</td>\n",
              "      <td>105000.000000</td>\n",
              "      <td>105000.000000</td>\n",
              "      <td>105000.000000</td>\n",
              "      <td>105000.000000</td>\n",
              "    </tr>\n",
              "    <tr>\n",
              "      <th>mean</th>\n",
              "      <td>394931.295905</td>\n",
              "      <td>0.602173</td>\n",
              "      <td>0.827038</td>\n",
              "      <td>0.584143</td>\n",
              "      <td>0.520000</td>\n",
              "      <td>18045.439267</td>\n",
              "      <td>11061.228571</td>\n",
              "      <td>0.675676</td>\n",
              "      <td>0.129733</td>\n",
              "      <td>0.549314</td>\n",
              "      <td>0.422648</td>\n",
              "    </tr>\n",
              "    <tr>\n",
              "      <th>std</th>\n",
              "      <td>279694.106053</td>\n",
              "      <td>0.138045</td>\n",
              "      <td>0.378216</td>\n",
              "      <td>0.492871</td>\n",
              "      <td>0.499602</td>\n",
              "      <td>16709.040449</td>\n",
              "      <td>2972.355482</td>\n",
              "      <td>1.383678</td>\n",
              "      <td>0.589714</td>\n",
              "      <td>1.402809</td>\n",
              "      <td>0.493983</td>\n",
              "    </tr>\n",
              "    <tr>\n",
              "      <th>min</th>\n",
              "      <td>101.000000</td>\n",
              "      <td>0.066880</td>\n",
              "      <td>0.000000</td>\n",
              "      <td>0.000000</td>\n",
              "      <td>0.000000</td>\n",
              "      <td>10238.000000</td>\n",
              "      <td>2000.000000</td>\n",
              "      <td>0.000000</td>\n",
              "      <td>0.000000</td>\n",
              "      <td>0.000000</td>\n",
              "      <td>0.000000</td>\n",
              "    </tr>\n",
              "    <tr>\n",
              "      <th>25%</th>\n",
              "      <td>156351.750000</td>\n",
              "      <td>0.514876</td>\n",
              "      <td>1.000000</td>\n",
              "      <td>0.000000</td>\n",
              "      <td>0.000000</td>\n",
              "      <td>10238.000000</td>\n",
              "      <td>9000.000000</td>\n",
              "      <td>0.000000</td>\n",
              "      <td>0.000000</td>\n",
              "      <td>0.000000</td>\n",
              "      <td>0.000000</td>\n",
              "    </tr>\n",
              "    <tr>\n",
              "      <th>50%</th>\n",
              "      <td>354679.500000</td>\n",
              "      <td>0.601112</td>\n",
              "      <td>1.000000</td>\n",
              "      <td>1.000000</td>\n",
              "      <td>1.000000</td>\n",
              "      <td>10238.000000</td>\n",
              "      <td>11000.000000</td>\n",
              "      <td>0.000000</td>\n",
              "      <td>0.000000</td>\n",
              "      <td>0.000000</td>\n",
              "      <td>0.000000</td>\n",
              "    </tr>\n",
              "    <tr>\n",
              "      <th>75%</th>\n",
              "      <td>598602.250000</td>\n",
              "      <td>0.703216</td>\n",
              "      <td>1.000000</td>\n",
              "      <td>1.000000</td>\n",
              "      <td>1.000000</td>\n",
              "      <td>22957.750000</td>\n",
              "      <td>13000.000000</td>\n",
              "      <td>1.000000</td>\n",
              "      <td>0.000000</td>\n",
              "      <td>0.000000</td>\n",
              "      <td>1.000000</td>\n",
              "    </tr>\n",
              "    <tr>\n",
              "      <th>max</th>\n",
              "      <td>999976.000000</td>\n",
              "      <td>0.954075</td>\n",
              "      <td>1.000000</td>\n",
              "      <td>1.000000</td>\n",
              "      <td>1.000000</td>\n",
              "      <td>92101.000000</td>\n",
              "      <td>21000.000000</td>\n",
              "      <td>20.000000</td>\n",
              "      <td>6.000000</td>\n",
              "      <td>15.000000</td>\n",
              "      <td>1.000000</td>\n",
              "    </tr>\n",
              "  </tbody>\n",
              "</table>\n",
              "</div>\n",
              "      <button class=\"colab-df-convert\" onclick=\"convertToInteractive('df-ea45e61b-5b63-4c6b-8f0b-31916985eb20')\"\n",
              "              title=\"Convert this dataframe to an interactive table.\"\n",
              "              style=\"display:none;\">\n",
              "        \n",
              "  <svg xmlns=\"http://www.w3.org/2000/svg\" height=\"24px\"viewBox=\"0 0 24 24\"\n",
              "       width=\"24px\">\n",
              "    <path d=\"M0 0h24v24H0V0z\" fill=\"none\"/>\n",
              "    <path d=\"M18.56 5.44l.94 2.06.94-2.06 2.06-.94-2.06-.94-.94-2.06-.94 2.06-2.06.94zm-11 1L8.5 8.5l.94-2.06 2.06-.94-2.06-.94L8.5 2.5l-.94 2.06-2.06.94zm10 10l.94 2.06.94-2.06 2.06-.94-2.06-.94-.94-2.06-.94 2.06-2.06.94z\"/><path d=\"M17.41 7.96l-1.37-1.37c-.4-.4-.92-.59-1.43-.59-.52 0-1.04.2-1.43.59L10.3 9.45l-7.72 7.72c-.78.78-.78 2.05 0 2.83L4 21.41c.39.39.9.59 1.41.59.51 0 1.02-.2 1.41-.59l7.78-7.78 2.81-2.81c.8-.78.8-2.07 0-2.86zM5.41 20L4 18.59l7.72-7.72 1.47 1.35L5.41 20z\"/>\n",
              "  </svg>\n",
              "      </button>\n",
              "      \n",
              "  <style>\n",
              "    .colab-df-container {\n",
              "      display:flex;\n",
              "      flex-wrap:wrap;\n",
              "      gap: 12px;\n",
              "    }\n",
              "\n",
              "    .colab-df-convert {\n",
              "      background-color: #E8F0FE;\n",
              "      border: none;\n",
              "      border-radius: 50%;\n",
              "      cursor: pointer;\n",
              "      display: none;\n",
              "      fill: #1967D2;\n",
              "      height: 32px;\n",
              "      padding: 0 0 0 0;\n",
              "      width: 32px;\n",
              "    }\n",
              "\n",
              "    .colab-df-convert:hover {\n",
              "      background-color: #E2EBFA;\n",
              "      box-shadow: 0px 1px 2px rgba(60, 64, 67, 0.3), 0px 1px 3px 1px rgba(60, 64, 67, 0.15);\n",
              "      fill: #174EA6;\n",
              "    }\n",
              "\n",
              "    [theme=dark] .colab-df-convert {\n",
              "      background-color: #3B4455;\n",
              "      fill: #D2E3FC;\n",
              "    }\n",
              "\n",
              "    [theme=dark] .colab-df-convert:hover {\n",
              "      background-color: #434B5C;\n",
              "      box-shadow: 0px 1px 3px 1px rgba(0, 0, 0, 0.15);\n",
              "      filter: drop-shadow(0px 1px 2px rgba(0, 0, 0, 0.3));\n",
              "      fill: #FFFFFF;\n",
              "    }\n",
              "  </style>\n",
              "\n",
              "      <script>\n",
              "        const buttonEl =\n",
              "          document.querySelector('#df-ea45e61b-5b63-4c6b-8f0b-31916985eb20 button.colab-df-convert');\n",
              "        buttonEl.style.display =\n",
              "          google.colab.kernel.accessAllowed ? 'block' : 'none';\n",
              "\n",
              "        async function convertToInteractive(key) {\n",
              "          const element = document.querySelector('#df-ea45e61b-5b63-4c6b-8f0b-31916985eb20');\n",
              "          const dataTable =\n",
              "            await google.colab.kernel.invokeFunction('convertToInteractive',\n",
              "                                                     [key], {});\n",
              "          if (!dataTable) return;\n",
              "\n",
              "          const docLinkHtml = 'Like what you see? Visit the ' +\n",
              "            '<a target=\"_blank\" href=https://colab.research.google.com/notebooks/data_table.ipynb>data table notebook</a>'\n",
              "            + ' to learn more about interactive tables.';\n",
              "          element.innerHTML = '';\n",
              "          dataTable['output_type'] = 'display_data';\n",
              "          await google.colab.output.renderOutput(dataTable, element);\n",
              "          const docLink = document.createElement('div');\n",
              "          docLink.innerHTML = docLinkHtml;\n",
              "          element.appendChild(docLink);\n",
              "        }\n",
              "      </script>\n",
              "    </div>\n",
              "  </div>\n",
              "  "
            ],
            "text/plain": [
              "                  ID   CREDIT_SCORE  VEHICLE_OWNERSHIP        MARRIED  \\\n",
              "count  105000.000000  105000.000000      105000.000000  105000.000000   \n",
              "mean   394931.295905       0.602173           0.827038       0.584143   \n",
              "std    279694.106053       0.138045           0.378216       0.492871   \n",
              "min       101.000000       0.066880           0.000000       0.000000   \n",
              "25%    156351.750000       0.514876           1.000000       0.000000   \n",
              "50%    354679.500000       0.601112           1.000000       1.000000   \n",
              "75%    598602.250000       0.703216           1.000000       1.000000   \n",
              "max    999976.000000       0.954075           1.000000       1.000000   \n",
              "\n",
              "            CHILDREN    POSTAL_CODE  ANNUAL_MILEAGE  SPEEDING_VIOLATIONS  \\\n",
              "count  105000.000000  105000.000000   105000.000000        105000.000000   \n",
              "mean        0.520000   18045.439267    11061.228571             0.675676   \n",
              "std         0.499602   16709.040449     2972.355482             1.383678   \n",
              "min         0.000000   10238.000000     2000.000000             0.000000   \n",
              "25%         0.000000   10238.000000     9000.000000             0.000000   \n",
              "50%         1.000000   10238.000000    11000.000000             0.000000   \n",
              "75%         1.000000   22957.750000    13000.000000             1.000000   \n",
              "max         1.000000   92101.000000    21000.000000            20.000000   \n",
              "\n",
              "                DUIS  PAST_ACCIDENTS        OUTCOME  \n",
              "count  105000.000000   105000.000000  105000.000000  \n",
              "mean        0.129733        0.549314       0.422648  \n",
              "std         0.589714        1.402809       0.493983  \n",
              "min         0.000000        0.000000       0.000000  \n",
              "25%         0.000000        0.000000       0.000000  \n",
              "50%         0.000000        0.000000       0.000000  \n",
              "75%         0.000000        0.000000       1.000000  \n",
              "max         6.000000       15.000000       1.000000  "
            ]
          },
          "execution_count": 10,
          "metadata": {},
          "output_type": "execute_result"
        }
      ],
      "source": [
        "train_df.describe()"
      ]
    },
    {
      "cell_type": "code",
      "execution_count": null,
      "metadata": {
        "colab": {
          "base_uri": "https://localhost:8080/",
          "height": 175
        },
        "id": "IMXItG-n91pZ",
        "outputId": "260cdd36-ee67-40e1-d461-ff04972f41d7"
      },
      "outputs": [
        {
          "data": {
            "text/html": [
              "\n",
              "  <div id=\"df-2269c35a-a159-430f-be6d-201a6dd49f1e\">\n",
              "    <div class=\"colab-df-container\">\n",
              "      <div>\n",
              "<style scoped>\n",
              "    .dataframe tbody tr th:only-of-type {\n",
              "        vertical-align: middle;\n",
              "    }\n",
              "\n",
              "    .dataframe tbody tr th {\n",
              "        vertical-align: top;\n",
              "    }\n",
              "\n",
              "    .dataframe thead th {\n",
              "        text-align: right;\n",
              "    }\n",
              "</style>\n",
              "<table border=\"1\" class=\"dataframe\">\n",
              "  <thead>\n",
              "    <tr style=\"text-align: right;\">\n",
              "      <th></th>\n",
              "      <th>AGE</th>\n",
              "      <th>GENDER</th>\n",
              "      <th>DRIVING_EXPERIENCE</th>\n",
              "      <th>EDUCATION</th>\n",
              "      <th>INCOME</th>\n",
              "      <th>VEHICLE_YEAR</th>\n",
              "      <th>TYPE_OF_VEHICLE</th>\n",
              "    </tr>\n",
              "  </thead>\n",
              "  <tbody>\n",
              "    <tr>\n",
              "      <th>count</th>\n",
              "      <td>105000</td>\n",
              "      <td>105000</td>\n",
              "      <td>105000</td>\n",
              "      <td>105000</td>\n",
              "      <td>105000</td>\n",
              "      <td>105000</td>\n",
              "      <td>105000</td>\n",
              "    </tr>\n",
              "    <tr>\n",
              "      <th>unique</th>\n",
              "      <td>4</td>\n",
              "      <td>2</td>\n",
              "      <td>4</td>\n",
              "      <td>3</td>\n",
              "      <td>4</td>\n",
              "      <td>2</td>\n",
              "      <td>4</td>\n",
              "    </tr>\n",
              "    <tr>\n",
              "      <th>top</th>\n",
              "      <td>40-64</td>\n",
              "      <td>male</td>\n",
              "      <td>20-29y</td>\n",
              "      <td>high school</td>\n",
              "      <td>upper class</td>\n",
              "      <td>before 2015</td>\n",
              "      <td>Sports Car</td>\n",
              "    </tr>\n",
              "    <tr>\n",
              "      <th>freq</th>\n",
              "      <td>33716</td>\n",
              "      <td>65317</td>\n",
              "      <td>37493</td>\n",
              "      <td>46590</td>\n",
              "      <td>51271</td>\n",
              "      <td>57511</td>\n",
              "      <td>34592</td>\n",
              "    </tr>\n",
              "  </tbody>\n",
              "</table>\n",
              "</div>\n",
              "      <button class=\"colab-df-convert\" onclick=\"convertToInteractive('df-2269c35a-a159-430f-be6d-201a6dd49f1e')\"\n",
              "              title=\"Convert this dataframe to an interactive table.\"\n",
              "              style=\"display:none;\">\n",
              "        \n",
              "  <svg xmlns=\"http://www.w3.org/2000/svg\" height=\"24px\"viewBox=\"0 0 24 24\"\n",
              "       width=\"24px\">\n",
              "    <path d=\"M0 0h24v24H0V0z\" fill=\"none\"/>\n",
              "    <path d=\"M18.56 5.44l.94 2.06.94-2.06 2.06-.94-2.06-.94-.94-2.06-.94 2.06-2.06.94zm-11 1L8.5 8.5l.94-2.06 2.06-.94-2.06-.94L8.5 2.5l-.94 2.06-2.06.94zm10 10l.94 2.06.94-2.06 2.06-.94-2.06-.94-.94-2.06-.94 2.06-2.06.94z\"/><path d=\"M17.41 7.96l-1.37-1.37c-.4-.4-.92-.59-1.43-.59-.52 0-1.04.2-1.43.59L10.3 9.45l-7.72 7.72c-.78.78-.78 2.05 0 2.83L4 21.41c.39.39.9.59 1.41.59.51 0 1.02-.2 1.41-.59l7.78-7.78 2.81-2.81c.8-.78.8-2.07 0-2.86zM5.41 20L4 18.59l7.72-7.72 1.47 1.35L5.41 20z\"/>\n",
              "  </svg>\n",
              "      </button>\n",
              "      \n",
              "  <style>\n",
              "    .colab-df-container {\n",
              "      display:flex;\n",
              "      flex-wrap:wrap;\n",
              "      gap: 12px;\n",
              "    }\n",
              "\n",
              "    .colab-df-convert {\n",
              "      background-color: #E8F0FE;\n",
              "      border: none;\n",
              "      border-radius: 50%;\n",
              "      cursor: pointer;\n",
              "      display: none;\n",
              "      fill: #1967D2;\n",
              "      height: 32px;\n",
              "      padding: 0 0 0 0;\n",
              "      width: 32px;\n",
              "    }\n",
              "\n",
              "    .colab-df-convert:hover {\n",
              "      background-color: #E2EBFA;\n",
              "      box-shadow: 0px 1px 2px rgba(60, 64, 67, 0.3), 0px 1px 3px 1px rgba(60, 64, 67, 0.15);\n",
              "      fill: #174EA6;\n",
              "    }\n",
              "\n",
              "    [theme=dark] .colab-df-convert {\n",
              "      background-color: #3B4455;\n",
              "      fill: #D2E3FC;\n",
              "    }\n",
              "\n",
              "    [theme=dark] .colab-df-convert:hover {\n",
              "      background-color: #434B5C;\n",
              "      box-shadow: 0px 1px 3px 1px rgba(0, 0, 0, 0.15);\n",
              "      filter: drop-shadow(0px 1px 2px rgba(0, 0, 0, 0.3));\n",
              "      fill: #FFFFFF;\n",
              "    }\n",
              "  </style>\n",
              "\n",
              "      <script>\n",
              "        const buttonEl =\n",
              "          document.querySelector('#df-2269c35a-a159-430f-be6d-201a6dd49f1e button.colab-df-convert');\n",
              "        buttonEl.style.display =\n",
              "          google.colab.kernel.accessAllowed ? 'block' : 'none';\n",
              "\n",
              "        async function convertToInteractive(key) {\n",
              "          const element = document.querySelector('#df-2269c35a-a159-430f-be6d-201a6dd49f1e');\n",
              "          const dataTable =\n",
              "            await google.colab.kernel.invokeFunction('convertToInteractive',\n",
              "                                                     [key], {});\n",
              "          if (!dataTable) return;\n",
              "\n",
              "          const docLinkHtml = 'Like what you see? Visit the ' +\n",
              "            '<a target=\"_blank\" href=https://colab.research.google.com/notebooks/data_table.ipynb>data table notebook</a>'\n",
              "            + ' to learn more about interactive tables.';\n",
              "          element.innerHTML = '';\n",
              "          dataTable['output_type'] = 'display_data';\n",
              "          await google.colab.output.renderOutput(dataTable, element);\n",
              "          const docLink = document.createElement('div');\n",
              "          docLink.innerHTML = docLinkHtml;\n",
              "          element.appendChild(docLink);\n",
              "        }\n",
              "      </script>\n",
              "    </div>\n",
              "  </div>\n",
              "  "
            ],
            "text/plain": [
              "           AGE  GENDER DRIVING_EXPERIENCE    EDUCATION       INCOME  \\\n",
              "count   105000  105000             105000       105000       105000   \n",
              "unique       4       2                  4            3            4   \n",
              "top      40-64    male             20-29y  high school  upper class   \n",
              "freq     33716   65317              37493        46590        51271   \n",
              "\n",
              "       VEHICLE_YEAR TYPE_OF_VEHICLE  \n",
              "count        105000          105000  \n",
              "unique            2               4  \n",
              "top     before 2015      Sports Car  \n",
              "freq          57511           34592  "
            ]
          },
          "execution_count": 11,
          "metadata": {},
          "output_type": "execute_result"
        }
      ],
      "source": [
        "train_df.describe(include=['O']) # for categorical "
      ]
    },
    {
      "cell_type": "code",
      "execution_count": null,
      "metadata": {
        "colab": {
          "base_uri": "https://localhost:8080/"
        },
        "id": "-9em8D4DBOcR",
        "outputId": "3be4cb8e-8583-4aad-bef8-6c1a980abd6e"
      },
      "outputs": [
        {
          "name": "stdout",
          "output_type": "stream",
          "text": [
            "Found existing installation: pandas-profiling 1.4.1\n",
            "Uninstalling pandas-profiling-1.4.1:\n",
            "  Would remove:\n",
            "    /usr/local/lib/python3.7/dist-packages/pandas_profiling-1.4.1.dist-info/*\n",
            "    /usr/local/lib/python3.7/dist-packages/pandas_profiling/*\n",
            "Proceed (y/n)? y\n",
            "  Successfully uninstalled pandas-profiling-1.4.1\n"
          ]
        }
      ],
      "source": [
        "!pip uninstall pandas_profiling"
      ]
    },
    {
      "cell_type": "code",
      "execution_count": null,
      "metadata": {
        "colab": {
          "base_uri": "https://localhost:8080/",
          "height": 1000
        },
        "id": "5WmwQNcONINt",
        "outputId": "6e6cf3c7-c6ce-49ce-d117-0373a75d0cf8"
      },
      "outputs": [
        {
          "name": "stdout",
          "output_type": "stream",
          "text": [
            "Looking in indexes: https://pypi.org/simple, https://us-python.pkg.dev/colab-wheels/public/simple/\n",
            "Collecting pandas-profiling[html,notebook]\n",
            "  Downloading pandas_profiling-3.4.0-py2.py3-none-any.whl (315 kB)\n",
            "\u001b[K     |████████████████████████████████| 315 kB 5.2 MB/s \n",
            "\u001b[33mWARNING: pandas-profiling 3.4.0 does not provide the extra 'html'\u001b[0m\n",
            "\u001b[?25hCollecting phik<0.13,>=0.11.1\n",
            "  Downloading phik-0.12.2-cp37-cp37m-manylinux_2_17_x86_64.manylinux2014_x86_64.whl (690 kB)\n",
            "\u001b[K     |████████████████████████████████| 690 kB 44.2 MB/s \n",
            "\u001b[?25hRequirement already satisfied: seaborn<0.13,>=0.10.1 in /usr/local/lib/python3.7/dist-packages (from pandas-profiling[html,notebook]) (0.11.2)\n",
            "Requirement already satisfied: pandas!=1.4.0,<1.6,>1.1 in /usr/local/lib/python3.7/dist-packages (from pandas-profiling[html,notebook]) (1.3.5)\n",
            "Requirement already satisfied: scipy<1.10,>=1.4.1 in /usr/local/lib/python3.7/dist-packages (from pandas-profiling[html,notebook]) (1.7.3)\n",
            "Requirement already satisfied: numpy<1.24,>=1.16.0 in /usr/local/lib/python3.7/dist-packages (from pandas-profiling[html,notebook]) (1.21.6)\n",
            "Requirement already satisfied: PyYAML<6.1,>=5.0.0 in /usr/local/lib/python3.7/dist-packages (from pandas-profiling[html,notebook]) (6.0)\n",
            "Requirement already satisfied: pydantic<1.11,>=1.8.1 in /usr/local/lib/python3.7/dist-packages (from pandas-profiling[html,notebook]) (1.10.2)\n",
            "Requirement already satisfied: missingno<0.6,>=0.4.2 in /usr/local/lib/python3.7/dist-packages (from pandas-profiling[html,notebook]) (0.5.1)\n",
            "Requirement already satisfied: matplotlib<3.6,>=3.2 in /usr/local/lib/python3.7/dist-packages (from pandas-profiling[html,notebook]) (3.2.2)\n",
            "Collecting requests<2.29,>=2.24.0\n",
            "  Downloading requests-2.28.1-py3-none-any.whl (62 kB)\n",
            "\u001b[K     |████████████████████████████████| 62 kB 1.5 MB/s \n",
            "\u001b[?25hCollecting htmlmin==0.1.12\n",
            "  Downloading htmlmin-0.1.12.tar.gz (19 kB)\n",
            "Collecting visions[type_image_path]==0.7.5\n",
            "  Downloading visions-0.7.5-py3-none-any.whl (102 kB)\n",
            "\u001b[K     |████████████████████████████████| 102 kB 54.8 MB/s \n",
            "\u001b[?25hCollecting statsmodels<0.14,>=0.13.2\n",
            "  Downloading statsmodels-0.13.5-cp37-cp37m-manylinux_2_17_x86_64.manylinux2014_x86_64.whl (9.9 MB)\n",
            "\u001b[K     |████████████████████████████████| 9.9 MB 52.5 MB/s \n",
            "\u001b[?25hCollecting multimethod<1.10,>=1.4\n",
            "  Downloading multimethod-1.9-py3-none-any.whl (10 kB)\n",
            "Requirement already satisfied: jinja2<3.2,>=2.11.1 in /usr/local/lib/python3.7/dist-packages (from pandas-profiling[html,notebook]) (2.11.3)\n",
            "Requirement already satisfied: tqdm<4.65,>=4.48.2 in /usr/local/lib/python3.7/dist-packages (from pandas-profiling[html,notebook]) (4.64.1)\n",
            "Requirement already satisfied: jupyter-client>=5.3.4 in /usr/local/lib/python3.7/dist-packages (from pandas-profiling[html,notebook]) (6.1.12)\n",
            "Requirement already satisfied: ipywidgets>=7.5.1 in /usr/local/lib/python3.7/dist-packages (from pandas-profiling[html,notebook]) (7.7.1)\n",
            "Requirement already satisfied: jupyter-core>=4.6.3 in /usr/local/lib/python3.7/dist-packages (from pandas-profiling[html,notebook]) (4.11.2)\n",
            "Requirement already satisfied: attrs>=19.3.0 in /usr/local/lib/python3.7/dist-packages (from visions[type_image_path]==0.7.5->pandas-profiling[html,notebook]) (22.1.0)\n",
            "Requirement already satisfied: networkx>=2.4 in /usr/local/lib/python3.7/dist-packages (from visions[type_image_path]==0.7.5->pandas-profiling[html,notebook]) (2.6.3)\n",
            "Collecting tangled-up-in-unicode>=0.0.4\n",
            "  Downloading tangled_up_in_unicode-0.2.0-py3-none-any.whl (4.7 MB)\n",
            "\u001b[K     |████████████████████████████████| 4.7 MB 34.1 MB/s \n",
            "\u001b[?25hRequirement already satisfied: Pillow in /usr/local/lib/python3.7/dist-packages (from visions[type_image_path]==0.7.5->pandas-profiling[html,notebook]) (7.1.2)\n",
            "Collecting imagehash\n",
            "  Downloading ImageHash-4.3.1-py2.py3-none-any.whl (296 kB)\n",
            "\u001b[K     |████████████████████████████████| 296 kB 66.5 MB/s \n",
            "\u001b[?25hRequirement already satisfied: ipykernel>=4.5.1 in /usr/local/lib/python3.7/dist-packages (from ipywidgets>=7.5.1->pandas-profiling[html,notebook]) (5.3.4)\n",
            "Requirement already satisfied: ipython>=4.0.0 in /usr/local/lib/python3.7/dist-packages (from ipywidgets>=7.5.1->pandas-profiling[html,notebook]) (7.9.0)\n",
            "Requirement already satisfied: traitlets>=4.3.1 in /usr/local/lib/python3.7/dist-packages (from ipywidgets>=7.5.1->pandas-profiling[html,notebook]) (5.1.1)\n",
            "Requirement already satisfied: widgetsnbextension~=3.6.0 in /usr/local/lib/python3.7/dist-packages (from ipywidgets>=7.5.1->pandas-profiling[html,notebook]) (3.6.1)\n",
            "Requirement already satisfied: jupyterlab-widgets>=1.0.0 in /usr/local/lib/python3.7/dist-packages (from ipywidgets>=7.5.1->pandas-profiling[html,notebook]) (3.0.3)\n",
            "Requirement already satisfied: ipython-genutils~=0.2.0 in /usr/local/lib/python3.7/dist-packages (from ipywidgets>=7.5.1->pandas-profiling[html,notebook]) (0.2.0)\n",
            "Requirement already satisfied: tornado>=4.2 in /usr/local/lib/python3.7/dist-packages (from ipykernel>=4.5.1->ipywidgets>=7.5.1->pandas-profiling[html,notebook]) (5.1.1)\n",
            "Requirement already satisfied: pickleshare in /usr/local/lib/python3.7/dist-packages (from ipython>=4.0.0->ipywidgets>=7.5.1->pandas-profiling[html,notebook]) (0.7.5)\n",
            "Requirement already satisfied: backcall in /usr/local/lib/python3.7/dist-packages (from ipython>=4.0.0->ipywidgets>=7.5.1->pandas-profiling[html,notebook]) (0.2.0)\n",
            "Requirement already satisfied: prompt-toolkit<2.1.0,>=2.0.0 in /usr/local/lib/python3.7/dist-packages (from ipython>=4.0.0->ipywidgets>=7.5.1->pandas-profiling[html,notebook]) (2.0.10)\n",
            "Requirement already satisfied: decorator in /usr/local/lib/python3.7/dist-packages (from ipython>=4.0.0->ipywidgets>=7.5.1->pandas-profiling[html,notebook]) (4.4.2)\n",
            "Requirement already satisfied: pexpect in /usr/local/lib/python3.7/dist-packages (from ipython>=4.0.0->ipywidgets>=7.5.1->pandas-profiling[html,notebook]) (4.8.0)\n",
            "Requirement already satisfied: setuptools>=18.5 in /usr/local/lib/python3.7/dist-packages (from ipython>=4.0.0->ipywidgets>=7.5.1->pandas-profiling[html,notebook]) (57.4.0)\n",
            "Collecting jedi>=0.10\n",
            "  Downloading jedi-0.18.1-py2.py3-none-any.whl (1.6 MB)\n",
            "\u001b[K     |████████████████████████████████| 1.6 MB 43.5 MB/s \n",
            "\u001b[?25hRequirement already satisfied: pygments in /usr/local/lib/python3.7/dist-packages (from ipython>=4.0.0->ipywidgets>=7.5.1->pandas-profiling[html,notebook]) (2.6.1)\n",
            "Requirement already satisfied: parso<0.9.0,>=0.8.0 in /usr/local/lib/python3.7/dist-packages (from jedi>=0.10->ipython>=4.0.0->ipywidgets>=7.5.1->pandas-profiling[html,notebook]) (0.8.3)\n",
            "Requirement already satisfied: MarkupSafe>=0.23 in /usr/local/lib/python3.7/dist-packages (from jinja2<3.2,>=2.11.1->pandas-profiling[html,notebook]) (2.0.1)\n",
            "Requirement already satisfied: pyzmq>=13 in /usr/local/lib/python3.7/dist-packages (from jupyter-client>=5.3.4->pandas-profiling[html,notebook]) (23.2.1)\n",
            "Requirement already satisfied: python-dateutil>=2.1 in /usr/local/lib/python3.7/dist-packages (from jupyter-client>=5.3.4->pandas-profiling[html,notebook]) (2.8.2)\n",
            "Requirement already satisfied: kiwisolver>=1.0.1 in /usr/local/lib/python3.7/dist-packages (from matplotlib<3.6,>=3.2->pandas-profiling[html,notebook]) (1.4.4)\n",
            "Requirement already satisfied: pyparsing!=2.0.4,!=2.1.2,!=2.1.6,>=2.0.1 in /usr/local/lib/python3.7/dist-packages (from matplotlib<3.6,>=3.2->pandas-profiling[html,notebook]) (3.0.9)\n",
            "Requirement already satisfied: cycler>=0.10 in /usr/local/lib/python3.7/dist-packages (from matplotlib<3.6,>=3.2->pandas-profiling[html,notebook]) (0.11.0)\n",
            "Requirement already satisfied: typing-extensions in /usr/local/lib/python3.7/dist-packages (from kiwisolver>=1.0.1->matplotlib<3.6,>=3.2->pandas-profiling[html,notebook]) (4.1.1)\n",
            "Requirement already satisfied: pytz>=2017.3 in /usr/local/lib/python3.7/dist-packages (from pandas!=1.4.0,<1.6,>1.1->pandas-profiling[html,notebook]) (2022.5)\n",
            "Requirement already satisfied: joblib>=0.14.1 in /usr/local/lib/python3.7/dist-packages (from phik<0.13,>=0.11.1->pandas-profiling[html,notebook]) (1.2.0)\n",
            "Requirement already satisfied: wcwidth in /usr/local/lib/python3.7/dist-packages (from prompt-toolkit<2.1.0,>=2.0.0->ipython>=4.0.0->ipywidgets>=7.5.1->pandas-profiling[html,notebook]) (0.2.5)\n",
            "Requirement already satisfied: six>=1.9.0 in /usr/local/lib/python3.7/dist-packages (from prompt-toolkit<2.1.0,>=2.0.0->ipython>=4.0.0->ipywidgets>=7.5.1->pandas-profiling[html,notebook]) (1.15.0)\n",
            "Requirement already satisfied: idna<4,>=2.5 in /usr/local/lib/python3.7/dist-packages (from requests<2.29,>=2.24.0->pandas-profiling[html,notebook]) (2.10)\n",
            "Requirement already satisfied: urllib3<1.27,>=1.21.1 in /usr/local/lib/python3.7/dist-packages (from requests<2.29,>=2.24.0->pandas-profiling[html,notebook]) (1.24.3)\n",
            "Requirement already satisfied: certifi>=2017.4.17 in /usr/local/lib/python3.7/dist-packages (from requests<2.29,>=2.24.0->pandas-profiling[html,notebook]) (2022.9.24)\n",
            "Requirement already satisfied: charset-normalizer<3,>=2 in /usr/local/lib/python3.7/dist-packages (from requests<2.29,>=2.24.0->pandas-profiling[html,notebook]) (2.1.1)\n",
            "Requirement already satisfied: patsy>=0.5.2 in /usr/local/lib/python3.7/dist-packages (from statsmodels<0.14,>=0.13.2->pandas-profiling[html,notebook]) (0.5.3)\n",
            "Requirement already satisfied: packaging>=21.3 in /usr/local/lib/python3.7/dist-packages (from statsmodels<0.14,>=0.13.2->pandas-profiling[html,notebook]) (21.3)\n",
            "Requirement already satisfied: notebook>=4.4.1 in /usr/local/lib/python3.7/dist-packages (from widgetsnbextension~=3.6.0->ipywidgets>=7.5.1->pandas-profiling[html,notebook]) (5.5.0)\n",
            "Requirement already satisfied: Send2Trash in /usr/local/lib/python3.7/dist-packages (from notebook>=4.4.1->widgetsnbextension~=3.6.0->ipywidgets>=7.5.1->pandas-profiling[html,notebook]) (1.8.0)\n",
            "Requirement already satisfied: nbformat in /usr/local/lib/python3.7/dist-packages (from notebook>=4.4.1->widgetsnbextension~=3.6.0->ipywidgets>=7.5.1->pandas-profiling[html,notebook]) (5.7.0)\n",
            "Requirement already satisfied: nbconvert in /usr/local/lib/python3.7/dist-packages (from notebook>=4.4.1->widgetsnbextension~=3.6.0->ipywidgets>=7.5.1->pandas-profiling[html,notebook]) (5.6.1)\n",
            "Requirement already satisfied: terminado>=0.8.1 in /usr/local/lib/python3.7/dist-packages (from notebook>=4.4.1->widgetsnbextension~=3.6.0->ipywidgets>=7.5.1->pandas-profiling[html,notebook]) (0.13.3)\n",
            "Requirement already satisfied: ptyprocess in /usr/local/lib/python3.7/dist-packages (from terminado>=0.8.1->notebook>=4.4.1->widgetsnbextension~=3.6.0->ipywidgets>=7.5.1->pandas-profiling[html,notebook]) (0.7.0)\n",
            "Requirement already satisfied: PyWavelets in /usr/local/lib/python3.7/dist-packages (from imagehash->visions[type_image_path]==0.7.5->pandas-profiling[html,notebook]) (1.3.0)\n",
            "Requirement already satisfied: bleach in /usr/local/lib/python3.7/dist-packages (from nbconvert->notebook>=4.4.1->widgetsnbextension~=3.6.0->ipywidgets>=7.5.1->pandas-profiling[html,notebook]) (5.0.1)\n",
            "Requirement already satisfied: pandocfilters>=1.4.1 in /usr/local/lib/python3.7/dist-packages (from nbconvert->notebook>=4.4.1->widgetsnbextension~=3.6.0->ipywidgets>=7.5.1->pandas-profiling[html,notebook]) (1.5.0)\n",
            "Requirement already satisfied: mistune<2,>=0.8.1 in /usr/local/lib/python3.7/dist-packages (from nbconvert->notebook>=4.4.1->widgetsnbextension~=3.6.0->ipywidgets>=7.5.1->pandas-profiling[html,notebook]) (0.8.4)\n",
            "Requirement already satisfied: defusedxml in /usr/local/lib/python3.7/dist-packages (from nbconvert->notebook>=4.4.1->widgetsnbextension~=3.6.0->ipywidgets>=7.5.1->pandas-profiling[html,notebook]) (0.7.1)\n",
            "Requirement already satisfied: testpath in /usr/local/lib/python3.7/dist-packages (from nbconvert->notebook>=4.4.1->widgetsnbextension~=3.6.0->ipywidgets>=7.5.1->pandas-profiling[html,notebook]) (0.6.0)\n",
            "Requirement already satisfied: entrypoints>=0.2.2 in /usr/local/lib/python3.7/dist-packages (from nbconvert->notebook>=4.4.1->widgetsnbextension~=3.6.0->ipywidgets>=7.5.1->pandas-profiling[html,notebook]) (0.4)\n",
            "Requirement already satisfied: fastjsonschema in /usr/local/lib/python3.7/dist-packages (from nbformat->notebook>=4.4.1->widgetsnbextension~=3.6.0->ipywidgets>=7.5.1->pandas-profiling[html,notebook]) (2.16.2)\n",
            "Requirement already satisfied: jsonschema>=2.6 in /usr/local/lib/python3.7/dist-packages (from nbformat->notebook>=4.4.1->widgetsnbextension~=3.6.0->ipywidgets>=7.5.1->pandas-profiling[html,notebook]) (4.3.3)\n",
            "Requirement already satisfied: importlib-metadata>=3.6 in /usr/local/lib/python3.7/dist-packages (from nbformat->notebook>=4.4.1->widgetsnbextension~=3.6.0->ipywidgets>=7.5.1->pandas-profiling[html,notebook]) (4.13.0)\n",
            "Requirement already satisfied: zipp>=0.5 in /usr/local/lib/python3.7/dist-packages (from importlib-metadata>=3.6->nbformat->notebook>=4.4.1->widgetsnbextension~=3.6.0->ipywidgets>=7.5.1->pandas-profiling[html,notebook]) (3.10.0)\n",
            "Requirement already satisfied: pyrsistent!=0.17.0,!=0.17.1,!=0.17.2,>=0.14.0 in /usr/local/lib/python3.7/dist-packages (from jsonschema>=2.6->nbformat->notebook>=4.4.1->widgetsnbextension~=3.6.0->ipywidgets>=7.5.1->pandas-profiling[html,notebook]) (0.18.1)\n",
            "Requirement already satisfied: importlib-resources>=1.4.0 in /usr/local/lib/python3.7/dist-packages (from jsonschema>=2.6->nbformat->notebook>=4.4.1->widgetsnbextension~=3.6.0->ipywidgets>=7.5.1->pandas-profiling[html,notebook]) (5.10.0)\n",
            "Requirement already satisfied: webencodings in /usr/local/lib/python3.7/dist-packages (from bleach->nbconvert->notebook>=4.4.1->widgetsnbextension~=3.6.0->ipywidgets>=7.5.1->pandas-profiling[html,notebook]) (0.5.1)\n",
            "Building wheels for collected packages: htmlmin\n",
            "  Building wheel for htmlmin (setup.py) ... \u001b[?25l\u001b[?25hdone\n",
            "  Created wheel for htmlmin: filename=htmlmin-0.1.12-py3-none-any.whl size=27098 sha256=dda74202152fe50ba9e12178a91854e7710803c55af7586c22b8c4132012fbb4\n",
            "  Stored in directory: /root/.cache/pip/wheels/70/e1/52/5b14d250ba868768823940c3229e9950d201a26d0bd3ee8655\n",
            "Successfully built htmlmin\n",
            "Installing collected packages: jedi, tangled-up-in-unicode, multimethod, visions, imagehash, statsmodels, requests, phik, htmlmin, pandas-profiling\n",
            "  Attempting uninstall: statsmodels\n",
            "    Found existing installation: statsmodels 0.12.2\n",
            "    Uninstalling statsmodels-0.12.2:\n",
            "      Successfully uninstalled statsmodels-0.12.2\n",
            "  Attempting uninstall: requests\n",
            "    Found existing installation: requests 2.23.0\n",
            "    Uninstalling requests-2.23.0:\n",
            "      Successfully uninstalled requests-2.23.0\n",
            "Successfully installed htmlmin-0.1.12 imagehash-4.3.1 jedi-0.18.1 multimethod-1.9 pandas-profiling-3.4.0 phik-0.12.2 requests-2.28.1 statsmodels-0.13.5 tangled-up-in-unicode-0.2.0 visions-0.7.5\n"
          ]
        },
        {
          "data": {
            "application/vnd.colab-display-data+json": {
              "pip_warning": {
                "packages": [
                  "statsmodels"
                ]
              }
            }
          },
          "metadata": {},
          "output_type": "display_data"
        }
      ],
      "source": [
        "!pip install pandas-profiling[notebook,html]"
      ]
    },
    {
      "cell_type": "code",
      "execution_count": null,
      "metadata": {
        "id": "DhRwftuCNJUk"
      },
      "outputs": [],
      "source": [
        "import pandas_profiling\n",
        "from pandas_profiling import ProfileReport\n",
        "from pandas_profiling.utils.cache import cache_file"
      ]
    },
    {
      "cell_type": "code",
      "execution_count": null,
      "metadata": {
        "id": "c4aa_jRZBXqL"
      },
      "outputs": [],
      "source": [
        "profile = ProfileReport(train_df, title=\"vechile insurance Dataset\", html={'style': {'full_width': True}}, sort=None)\n",
        "profile.to_file(\"your_report.html\")"
      ]
    },
    {
      "cell_type": "code",
      "source": [
        "# profile.to_notebook_iframe() for inserting html in this notebook"
      ],
      "metadata": {
        "id": "8J4wJ20SceTq"
      },
      "execution_count": null,
      "outputs": []
    },
    {
      "cell_type": "code",
      "source": [
        "for dataset in combine:\n",
        "  dataset = dataset.drop('ID', axis=1,inplace=True)"
      ],
      "metadata": {
        "id": "0Is80Q3Hcoiu"
      },
      "execution_count": 4,
      "outputs": []
    },
    {
      "cell_type": "code",
      "source": [
        "age_mapping = {\"16-25\": 1, \"26-39\": 2, \"40-64\": 3, \"65+\": 4}\n",
        "for dataset in combine:\n",
        "    dataset['AGE'] = dataset['AGE'].map(age_mapping)"
      ],
      "metadata": {
        "id": "2Sb4HjOozLCT"
      },
      "execution_count": 5,
      "outputs": []
    },
    {
      "cell_type": "code",
      "source": [
        "gender_mapping = {\"female\": 1, \"male\": 2}\n",
        "for dataset in combine:\n",
        "    dataset['GENDER'] = dataset['GENDER'].map(gender_mapping)"
      ],
      "metadata": {
        "id": "EMRuKSLx1UHR"
      },
      "execution_count": 6,
      "outputs": []
    },
    {
      "cell_type": "code",
      "source": [
        "drEXP_mapping = {\"0-9y\": 1, \"10-29y\": 2, \"20-29y\": 3, \"30y+\": 4}\n",
        "for dataset in combine:\n",
        "    dataset['DRIVING_EXPERIENCE'] = dataset['DRIVING_EXPERIENCE'].map(drEXP_mapping)"
      ],
      "metadata": {
        "id": "lT0tTxwR2GQN"
      },
      "execution_count": 7,
      "outputs": []
    },
    {
      "cell_type": "code",
      "source": [
        "edu_mapping = {\"none\": 1, \"high school\": 2, \"university\": 3}\n",
        "for dataset in combine:\n",
        "    dataset['EDUCATION'] = dataset['EDUCATION'].map(edu_mapping)"
      ],
      "metadata": {
        "id": "9GzhDO9G3Qam"
      },
      "execution_count": 8,
      "outputs": []
    },
    {
      "cell_type": "code",
      "source": [
        "inc_mapping = {\"poverty\": 1, \"middle class\": 2, \"working class\": 3, \"upper class\": 4}\n",
        "for dataset in combine:\n",
        "    dataset['INCOME'] = dataset['INCOME'].map(inc_mapping)"
      ],
      "metadata": {
        "id": "omty6S3q3_qA"
      },
      "execution_count": 9,
      "outputs": []
    },
    {
      "cell_type": "code",
      "source": [
        "vecOWN_mapping = {1.0:1,0.0:0}\n",
        "for dataset in combine:\n",
        "    dataset['VEHICLE_OWNERSHIP'] = dataset['VEHICLE_OWNERSHIP'].map(vecOWN_mapping)"
      ],
      "metadata": {
        "id": "QpVGDIWQ4gHj"
      },
      "execution_count": 10,
      "outputs": []
    },
    {
      "cell_type": "code",
      "source": [
        "vecYR_mapping = {'before 2015':1, 'after 2015':2}\n",
        "for dataset in combine:\n",
        "    dataset['VEHICLE_YEAR'] = dataset['VEHICLE_YEAR'].map(vecYR_mapping)"
      ],
      "metadata": {
        "id": "kVbBCSXj5cSU"
      },
      "execution_count": 11,
      "outputs": []
    },
    {
      "cell_type": "code",
      "source": [
        "MARR_mapping = {1.0:1,0.0:0}\n",
        "for dataset in combine:\n",
        "    dataset['MARRIED'] = dataset['MARRIED'].map(MARR_mapping)"
      ],
      "metadata": {
        "id": "KCdxxJJP6YLU"
      },
      "execution_count": 12,
      "outputs": []
    },
    {
      "cell_type": "code",
      "source": [
        "CHIL_mapping = {1.0:1,0.0:0}\n",
        "for dataset in combine:\n",
        "    dataset['CHILDREN'] = dataset['CHILDREN'].map(CHIL_mapping)"
      ],
      "metadata": {
        "id": "npVOoQ5O6YWD"
      },
      "execution_count": 13,
      "outputs": []
    },
    {
      "cell_type": "code",
      "source": [
        "#https://stackoverflow.com/questions/58101126/using-scikit-learn-onehotencoder-with-a-pandas-dataframe\n",
        "\n",
        "train_df=pd.get_dummies(train_df,prefix=['TYPE_OF_VEHICLE'], columns= ['TYPE_OF_VEHICLE'], drop_first=True)\n",
        "test_df=pd.get_dummies(test_df,prefix=['TYPE_OF_VEHICLE'], columns= ['TYPE_OF_VEHICLE'], drop_first=True)\n",
        "combine=[train_df,test_df]"
      ],
      "metadata": {
        "id": "HvSdf2y6A62P"
      },
      "execution_count": 14,
      "outputs": []
    },
    {
      "cell_type": "code",
      "source": [
        "# for data in combine:\n",
        "#   print(data.head())"
      ],
      "metadata": {
        "id": "IqwbEXXhK5bc"
      },
      "execution_count": null,
      "outputs": []
    },
    {
      "cell_type": "code",
      "source": [
        "OUT_mapping = {1.0:1,0.0:0}\n",
        "train_df['OUTCOME'] = train_df['OUTCOME'].map(OUT_mapping)"
      ],
      "metadata": {
        "id": "pnD9QGIJfMzR"
      },
      "execution_count": 15,
      "outputs": []
    },
    {
      "cell_type": "code",
      "source": [
        "print(train_df['POSTAL_CODE'])"
      ],
      "metadata": {
        "colab": {
          "base_uri": "https://localhost:8080/"
        },
        "id": "MCMUiOWQgWPr",
        "outputId": "4cb117e3-6fed-4c90-a1cb-c200e4ef271f"
      },
      "execution_count": null,
      "outputs": [
        {
          "output_type": "stream",
          "name": "stdout",
          "text": [
            "0         37379\n",
            "1         10238\n",
            "2         10238\n",
            "3         92099\n",
            "4         32122\n",
            "          ...  \n",
            "104995    31885\n",
            "104996    32277\n",
            "104997    34800\n",
            "104998    10238\n",
            "104999    10238\n",
            "Name: POSTAL_CODE, Length: 105000, dtype: int64\n"
          ]
        }
      ]
    },
    {
      "cell_type": "code",
      "source": [
        "# for data in combine:\n",
        "#   for ind in range(len(data['POSTAL_CODE'])):\n",
        "#     val_1=data['POSTAL_CODE'][ind]\n",
        "#     val_2=data['OUTCOME'][ind]\n",
        "#     for indx in range(len(data['POSTAL_CODE'])):\n",
        "#       cnt1,cnt2=0,0\n",
        "#       if data['POSTAL_CODE'][ind]==val_1 and data['OUTCOME'][ind]==val_2:\n",
        "#         cnt1+=1\n",
        "#       else:\n",
        "#         cnt2+=1\n",
        "#     data['POSTAL_CODE'][ind]=cnt1/(cnt1+cnt2)\n",
        "\n",
        "\n",
        "\n"
      ],
      "metadata": {
        "id": "gLq8Q5gLjOfr"
      },
      "execution_count": null,
      "outputs": []
    },
    {
      "cell_type": "code",
      "source": [
        "for data in combine:\n",
        "  for ind in range(len(data['POSTAL_CODE'])):\n",
        "    a=data['POSTAL_CODE'][ind]\n",
        "    v=sum(int(val) for val in str(a) )\n",
        "    data['POSTAL_CODE'][ind]=v\n",
        "    \n",
        "  \n",
        "\n"
      ],
      "metadata": {
        "colab": {
          "base_uri": "https://localhost:8080/"
        },
        "id": "BWRkqvO9oOFz",
        "outputId": "0d8729dd-cf6e-4bab-d29d-7d03f84a0e95"
      },
      "execution_count": 16,
      "outputs": [
        {
          "output_type": "stream",
          "name": "stderr",
          "text": [
            "/usr/local/lib/python3.7/dist-packages/ipykernel_launcher.py:5: SettingWithCopyWarning: \n",
            "A value is trying to be set on a copy of a slice from a DataFrame\n",
            "\n",
            "See the caveats in the documentation: https://pandas.pydata.org/pandas-docs/stable/user_guide/indexing.html#returning-a-view-versus-a-copy\n",
            "  \"\"\"\n"
          ]
        }
      ]
    },
    {
      "cell_type": "code",
      "source": [
        "from sklearn.preprocessing import MinMaxScaler\n",
        "sc= MinMaxScaler(copy=False)\n",
        "sc.fit_transform(train_df[['POSTAL_CODE']])\n",
        "sc.transform(test_df[['POSTAL_CODE']])"
      ],
      "metadata": {
        "colab": {
          "base_uri": "https://localhost:8080/"
        },
        "id": "a1GrNj5k3bQd",
        "outputId": "92a26c24-a203-4e5d-ebaa-47a3923c866c"
      },
      "execution_count": 17,
      "outputs": [
        {
          "output_type": "execute_result",
          "data": {
            "text/plain": [
              "array([[0.275],\n",
              "       [0.35 ],\n",
              "       [0.275],\n",
              "       ...,\n",
              "       [0.275],\n",
              "       [0.25 ],\n",
              "       [0.275]])"
            ]
          },
          "metadata": {},
          "execution_count": 17
        }
      ]
    },
    {
      "cell_type": "code",
      "source": [
        "mm1= MinMaxScaler(copy=False)\n",
        "mm1.fit_transform(train_df[['CREDIT_SCORE']])\n",
        "mm1.transform(test_df[['CREDIT_SCORE']])"
      ],
      "metadata": {
        "colab": {
          "base_uri": "https://localhost:8080/"
        },
        "id": "keYav3yAySBW",
        "outputId": "46542d8c-c004-4795-e400-7a588feccc8a"
      },
      "execution_count": 21,
      "outputs": [
        {
          "output_type": "execute_result",
          "data": {
            "text/plain": [
              "array([[0.84291109],\n",
              "       [0.31241216],\n",
              "       [0.62422608],\n",
              "       ...,\n",
              "       [0.56344272],\n",
              "       [0.76079078],\n",
              "       [0.71956095]])"
            ]
          },
          "metadata": {},
          "execution_count": 21
        }
      ]
    },
    {
      "cell_type": "code",
      "source": [
        "mm2= MinMaxScaler(copy=False)\n",
        "mm2.fit_transform(train_df[['ANNUAL_MILEAGE']])\n",
        "mm2.transform(test_df[['ANNUAL_MILEAGE']])"
      ],
      "metadata": {
        "colab": {
          "base_uri": "https://localhost:8080/"
        },
        "id": "1OUIFEUXywVN",
        "outputId": "fb811c8e-0114-4cf3-dc28-84459ab60653"
      },
      "execution_count": 23,
      "outputs": [
        {
          "output_type": "execute_result",
          "data": {
            "text/plain": [
              "array([[0.42105263],\n",
              "       [0.57894737],\n",
              "       [0.52631579],\n",
              "       ...,\n",
              "       [0.57894737],\n",
              "       [0.57894737],\n",
              "       [0.31578947]])"
            ]
          },
          "metadata": {},
          "execution_count": 23
        }
      ]
    },
    {
      "cell_type": "code",
      "source": [
        "mm3= MinMaxScaler(copy=False)\n",
        "mm3.fit_transform(train_df[['SPEEDING_VIOLATIONS']])\n",
        "mm3.transform(test_df[['SPEEDING_VIOLATIONS']])"
      ],
      "metadata": {
        "colab": {
          "base_uri": "https://localhost:8080/"
        },
        "id": "gTbasZqYzwA1",
        "outputId": "79cdb874-e15d-4999-eca2-33c5fd9056bf"
      },
      "execution_count": 24,
      "outputs": [
        {
          "output_type": "execute_result",
          "data": {
            "text/plain": [
              "array([[0.  ],\n",
              "       [0.  ],\n",
              "       [0.  ],\n",
              "       ...,\n",
              "       [0.  ],\n",
              "       [0.05],\n",
              "       [0.05]])"
            ]
          },
          "metadata": {},
          "execution_count": 24
        }
      ]
    },
    {
      "cell_type": "code",
      "source": [
        "mm4= MinMaxScaler(copy=False)\n",
        "mm4.fit_transform(train_df[['DUIS']])\n",
        "mm4.transform(test_df[['DUIS']])"
      ],
      "metadata": {
        "colab": {
          "base_uri": "https://localhost:8080/"
        },
        "id": "2NLomET4zwQA",
        "outputId": "74a247b3-cbf7-4a5c-bd96-b8351ef16f89"
      },
      "execution_count": 25,
      "outputs": [
        {
          "output_type": "execute_result",
          "data": {
            "text/plain": [
              "array([[0.],\n",
              "       [0.],\n",
              "       [0.],\n",
              "       ...,\n",
              "       [0.],\n",
              "       [0.],\n",
              "       [0.]])"
            ]
          },
          "metadata": {},
          "execution_count": 25
        }
      ]
    },
    {
      "cell_type": "code",
      "source": [
        "mm5= MinMaxScaler(copy=False)\n",
        "mm5.fit_transform(train_df[['PAST_ACCIDENTS']])\n",
        "mm5.transform(test_df[['PAST_ACCIDENTS']])"
      ],
      "metadata": {
        "colab": {
          "base_uri": "https://localhost:8080/"
        },
        "id": "Ua00Sgh0zwcO",
        "outputId": "4001b519-4fdf-49fd-f36a-069277495cd1"
      },
      "execution_count": 26,
      "outputs": [
        {
          "output_type": "execute_result",
          "data": {
            "text/plain": [
              "array([[0.        ],\n",
              "       [0.        ],\n",
              "       [0.        ],\n",
              "       ...,\n",
              "       [0.        ],\n",
              "       [0.        ],\n",
              "       [0.06666667]])"
            ]
          },
          "metadata": {},
          "execution_count": 26
        }
      ]
    },
    {
      "cell_type": "code",
      "source": [
        "#https://www.kaggle.com/code/ldfreeman3/a-data-science-framework-to-achieve-99-accuracy/notebook\n",
        "#correlation heatmap of dataset\n",
        "def correlation_heatmap(df):\n",
        "    _ , ax = plt.subplots(figsize =(20, 25))\n",
        "    colormap = sns.diverging_palette(220, 10, as_cmap = True)\n",
        "    \n",
        "    _ = sns.heatmap(\n",
        "        df.corr(), \n",
        "        cmap = colormap,\n",
        "        square=True, \n",
        "        cbar_kws={'shrink':.9 }, \n",
        "        ax=ax,\n",
        "        annot=True, \n",
        "        linewidths=0.1,vmax=1.0, linecolor='white',\n",
        "        annot_kws={'fontsize':12 }\n",
        "    )\n",
        "    \n",
        "    plt.title('Pearson Correlation of Features', y=1.05, size=15)\n",
        "\n",
        "correlation_heatmap(train_df)"
      ],
      "metadata": {
        "colab": {
          "base_uri": "https://localhost:8080/",
          "height": 857
        },
        "id": "Myin10OYQtsO",
        "outputId": "a3f8b7d1-b9c6-4b8f-bee3-e360ac0234f8"
      },
      "execution_count": null,
      "outputs": [
        {
          "output_type": "display_data",
          "data": {
            "text/plain": [
              "<Figure size 1440x1800 with 2 Axes>"
            ],
            "image/png": "[encoded data removed]"
          },
          "metadata": {
            "needs_background": "light"
          }
        }
      ]
    },
    {
      "cell_type": "code",
      "source": [
        "Y_train= train_df['OUTCOME']\n",
        "train_df.drop('OUTCOME', axis=1,inplace=True)\n"
      ],
      "metadata": {
        "id": "YOFwx0qN5xJs"
      },
      "execution_count": 18,
      "outputs": []
    },
    {
      "cell_type": "code",
      "source": [
        "for dataset in combine:\n",
        "  dataset.replace([np.inf, -np.inf], np.nan, inplace=True)"
      ],
      "metadata": {
        "id": "0nJXBnKUUUFl"
      },
      "execution_count": 19,
      "outputs": []
    },
    {
      "cell_type": "code",
      "source": [
        "for dataset in combine:\n",
        "  dataset['DRIVING_EXPERIENCE'].fillna(5,inplace=True)"
      ],
      "metadata": {
        "id": "PNlVxkMuUnIZ"
      },
      "execution_count": 20,
      "outputs": []
    },
    {
      "cell_type": "code",
      "source": [
        "# for dataset in combine:\n",
        "#   print(dataset.isnull().sum())"
      ],
      "metadata": {
        "id": "rd1jGiVSXBMF"
      },
      "execution_count": null,
      "outputs": []
    },
    {
      "cell_type": "code",
      "source": [
        "# sub=pd.read_csv('/content/targetdir/AnalyticsOlympiad2022Data/submission.csv')\n",
        "# print(sub)"
      ],
      "metadata": {
        "id": "irqDk1jGRsiK"
      },
      "execution_count": null,
      "outputs": []
    },
    {
      "cell_type": "code",
      "source": [
        "logreg = LogisticRegression()\n",
        "logreg.fit(train_df, Y_train)\n",
        "Y_pred_test = logreg.predict(test_df)\n",
        "Y_pred_train = logreg.predict(train_df)\n",
        "# acc_log = round(logreg.score(Y_train , Y_pred_train) * 100, 2)\n",
        "# acc_log"
      ],
      "metadata": {
        "id": "n0AYkWgHXoeO"
      },
      "execution_count": 27,
      "outputs": []
    },
    {
      "cell_type": "code",
      "source": [
        "logreg = DecisionTreeClassifier()\n",
        "logreg.fit(train_df, Y_train)\n",
        "Y_pred_test = logreg.predict(test_df)\n",
        "Y_pred_train = logreg.predict(train_df)"
      ],
      "metadata": {
        "id": "wC-h8XGJXC6G"
      },
      "execution_count": 31,
      "outputs": []
    },
    {
      "cell_type": "code",
      "source": [
        "logreg = RandomForestClassifier()\n",
        "logreg.fit(train_df, Y_train)\n",
        "Y_pred_test = logreg.predict(test_df)\n",
        "Y_pred_train = logreg.predict(train_df)"
      ],
      "metadata": {
        "id": "bcOmDERI1c03"
      },
      "execution_count": 35,
      "outputs": []
    },
    {
      "cell_type": "code",
      "source": [
        "a=[]\n",
        "for ind in range(len(Y_pred_test )):\n",
        "  if Y_pred_test[ind]==0:\n",
        "     a.append(0.0)\n",
        "\n",
        "  else:\n",
        "     a.append(1.0)"
      ],
      "metadata": {
        "id": "Hj9G2wLVZTg-"
      },
      "execution_count": 36,
      "outputs": []
    },
    {
      "cell_type": "code",
      "source": [
        " res=pd.DataFrame({'OUTCOME':a},dtype=np.float32)\n"
      ],
      "metadata": {
        "id": "Xj1eHRXFdfuB"
      },
      "execution_count": 37,
      "outputs": []
    },
    {
      "cell_type": "code",
      "source": [
        "res.to_csv('submission3.csv',index=False)"
      ],
      "metadata": {
        "id": "oJDVYvuae7WB"
      },
      "execution_count": 38,
      "outputs": []
    },
    {
      "cell_type": "code",
      "source": [
        "aa=pd.read_csv('/content/submission2.csv')\n",
        "print(aa)"
      ],
      "metadata": {
        "id": "3PRkzi5E6CHP",
        "colab": {
          "base_uri": "https://localhost:8080/"
        },
        "outputId": "35ecf39a-716a-416d-b0e8-ef842bba8901"
      },
      "execution_count": null,
      "outputs": [
        {
          "output_type": "stream",
          "name": "stdout",
          "text": [
            "       OUTCOME\n",
            "0          1.0\n",
            "1          0.0\n",
            "2          0.0\n",
            "3          1.0\n",
            "4          0.0\n",
            "...        ...\n",
            "44995      1.0\n",
            "44996      0.0\n",
            "44997      1.0\n",
            "44998      0.0\n",
            "44999      1.0\n",
            "\n",
            "[45000 rows x 1 columns]\n"
          ]
        }
      ]
    },
    {
      "cell_type": "code",
      "source": [
        "from sklearn.metrics import log_loss\n",
        "print(log_loss(Y_train,Y_pred_train))"
      ],
      "metadata": {
        "colab": {
          "base_uri": "https://localhost:8080/"
        },
        "id": "ljYAY1gFv-KZ",
        "outputId": "bd596dbd-c7b3-4d25-e002-fa2583835d9c"
      },
      "execution_count": null,
      "outputs": [
        {
          "output_type": "stream",
          "name": "stdout",
          "text": [
            "9.99200722162641e-16\n"
          ]
        }
      ]
    }
  ],
  "metadata": {
    "accelerator": "TPU",
    "colab": {
      "provenance": [],
      "collapsed_sections": []
    },
    "gpuClass": "standard",
    "kernelspec": {
      "display_name": "Python 3",
      "name": "python3"
    },
    "language_info": {
      "name": "python"
    }
  },
  "nbformat": 4,
  "nbformat_minor": 0
}